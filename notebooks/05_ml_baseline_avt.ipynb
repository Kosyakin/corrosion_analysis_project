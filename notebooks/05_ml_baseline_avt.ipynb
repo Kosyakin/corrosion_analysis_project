{
 "cells": [
  {
   "cell_type": "markdown",
   "metadata": {},
   "source": [
    "## ML Baseline (АВТ): урезанный фичсет без групповой CV\n",
    "\n",
    "Цель: получить сравнимую базовую линию для установок с названием, содержащим «АВТ»,\n",
    "используя минимально достаточный набор признаков:\n",
    "- геометрия: `cross_sectional_area`;\n",
    "- материал: `material_resistance_score`;\n",
    "- операционные: `operating_temperature`, `operating_pressure`;\n",
    "- химические (2–3 ключевых): `sulfur_content`, `total_sulfur_compounds`, `h2s_content` (если доступны).\n",
    "\n",
    "Здесь НЕ используем групповую валидацию по установкам — намеренно оцениваем упрощенный сценарий.\n"
   ]
  },
  {
   "cell_type": "code",
   "execution_count": 1,
   "metadata": {},
   "outputs": [
    {
     "name": "stdout",
     "output_type": "stream",
     "text": [
      "Версии: {'python': '3.11.9 (tags/v3.11.9:de54cf5, Apr  2 2024, 10:12:12) [MSC v.1938 64 bit (AMD64)]', 'numpy': '2.3.4', 'pandas': '2.3.3', 'sklearn': '1.7.2'}\n"
     ]
    }
   ],
   "source": [
    "# Импорты\n",
    "import os, sys, json\n",
    "import numpy as np\n",
    "import pandas as pd\n",
    "from typing import List\n",
    "\n",
    "# Визуализации опционально\n",
    "import matplotlib.pyplot as plt\n",
    "import seaborn as sns\n",
    "\n",
    "# Данные\n",
    "if '../src' not in sys.path:\n",
    "    sys.path.append('../src')\n",
    "from database import load_corrosion_data\n",
    "\n",
    "# ML\n",
    "import sklearn\n",
    "from sklearn.model_selection import train_test_split, KFold\n",
    "from sklearn.metrics import mean_absolute_error, r2_score, mean_squared_error\n",
    "from sklearn.linear_model import Ridge\n",
    "from sklearn.ensemble import RandomForestRegressor\n",
    "from sklearn.preprocessing import StandardScaler\n",
    "from sklearn.pipeline import Pipeline\n",
    "\n",
    "print('Версии:', {'python': sys.version, 'numpy': np.__version__, 'pandas': pd.__version__, 'sklearn': sklearn.__version__})\n"
   ]
  },
  {
   "cell_type": "markdown",
   "metadata": {},
   "source": [
    "### Про нули в химических признаках\n",
    "\n",
    "- Ноль трактуем как «компонент отсутствует» — это нормальная и полезная информация для модели.\n",
    "- Пропуски (NaN) — это «значение не измерено»; мы имитируем отсутствие компонент значением 0, чтобы модель могла их использовать. Для линейных моделей дополнительно масштабируем признаки.\n",
    "- Подробнее про импутацию: https://scikit-learn.org/stable/modules/impute.html\n"
   ]
  },
  {
   "cell_type": "code",
   "execution_count": 2,
   "metadata": {},
   "outputs": [
    {
     "name": "stdout",
     "output_type": "stream",
     "text": [
      "Всего записей: 442,052\n",
      "Поля для фильтра: ['installation']\n",
      "Отобрано АВТ: 233,306\n",
      "После фильтрации цели: 177,841\n"
     ]
    }
   ],
   "source": [
    "# Загрузка и фильтр АВТ\n",
    "\n",
    "df = load_corrosion_data()\n",
    "print(f\"Всего записей: {len(df):,}\")\n",
    "\n",
    "# Выберем поле(я) для фильтрации по строке \"АВТ\"\n",
    "text_cols: List[str] = [c for c in ['installation'] if c in df.columns]\n",
    "print('Поля для фильтра:', text_cols)\n",
    "\n",
    "if not text_cols:\n",
    "    raise ValueError('Нет текстовых полей для фильтрации АВТ')\n",
    "\n",
    "mask = False\n",
    "for c in text_cols:\n",
    "    mask = mask | df[c].astype(str).str.contains('АВТ', case=False, na=False)\n",
    "\n",
    "df_avt = df[mask].copy()\n",
    "print(f\"Отобрано АВТ: {len(df_avt):,}\")\n",
    "\n",
    "TARGET = 'corrosion_rate'\n",
    "df_avt = df_avt[df_avt[TARGET].notna() & (df_avt[TARGET] >= 0) & (df_avt[TARGET] <= 10)]\n",
    "print(f\"После фильтрации цели: {len(df_avt):,}\")\n"
   ]
  },
  {
   "cell_type": "code",
   "execution_count": 6,
   "metadata": {},
   "outputs": [
    {
     "name": "stdout",
     "output_type": "stream",
     "text": [
      "Признаки к использованию: ['cross_sectional_area', 'material_resistance_score', 'operating_temperature', 'operating_pressure', 'sulfur_content', 'total_sulfur_compounds', 'h2s_content', 'water_content', 'oxygen_content']\n",
      "Проверка пропусков после импутации: 0\n"
     ]
    }
   ],
   "source": [
    "# Формируем урезанный список признаков\n",
    "\n",
    "base_features = [\n",
    "    'cross_sectional_area',\n",
    "    'material_resistance_score',\n",
    "    'operating_temperature',\n",
    "    'operating_pressure'\n",
    "]\n",
    "\n",
    "chemical_candidates = ['sulfur_content','total_sulfur_compounds','h2s_content','water_content','oxygen_content']\n",
    "\n",
    "features = [c for c in base_features + chemical_candidates if c in df_avt.columns]\n",
    "print('Признаки к использованию:', features)\n",
    "\n",
    "X = df_avt[features].copy()\n",
    "y = df_avt[TARGET].astype(float)\n",
    "\n",
    "# Импутация: химические NaN -> 0 (нет данных ~ нет компонента), прочие NaN -> медиана\n",
    "for c in features:\n",
    "    if c in chemical_candidates:\n",
    "        X[c] = X[c].fillna(0)\n",
    "    else:\n",
    "        X[c] = X[c].fillna(X[c].median())\n",
    "\n",
    "print('Проверка пропусков после импутации:', int(X.isna().sum().sum()))\n"
   ]
  },
  {
   "cell_type": "code",
   "execution_count": 7,
   "metadata": {},
   "outputs": [
    {
     "name": "stdout",
     "output_type": "stream",
     "text": [
      "Добавлены взаимодействия: ['water_content_x_operating_temperature', 'oxygen_content_x_operating_temperature']\n"
     ]
    }
   ],
   "source": [
    "# Взаимодействия химия × температура\n",
    "\n",
    "interaction_features = []\n",
    "if 'operating_temperature' in X.columns:\n",
    "    if 'water_content' in X.columns:\n",
    "        name = 'water_content_x_operating_temperature'\n",
    "        X[name] = X['water_content'] * X['operating_temperature']\n",
    "        interaction_features.append(name)\n",
    "    if 'oxygen_content' in X.columns:\n",
    "        name = 'oxygen_content_x_operating_temperature'\n",
    "        X[name] = X['oxygen_content'] * X['operating_temperature']\n",
    "        interaction_features.append(name)\n",
    "\n",
    "print('Добавлены взаимодействия:', interaction_features)\n"
   ]
  },
  {
   "cell_type": "code",
   "execution_count": 8,
   "metadata": {},
   "outputs": [
    {
     "name": "stdout",
     "output_type": "stream",
     "text": [
      "Ridge(val): MAE=0.0791, RMSE=0.2138, R2=0.0107\n",
      "RF(val):    MAE=0.0762, RMSE=0.2038, R2=0.1014\n",
      "Средние метрики KFold:\n",
      "                 MAE            RMSE              R2        \n",
      "                mean     std    mean     std    mean     std\n",
      "model                                                       \n",
      "RandomForest  0.0759  0.0005  0.2083  0.0047  0.0946  0.0104\n",
      "Ridge         0.0788  0.0003  0.2178  0.0037  0.0107  0.0015\n"
     ]
    }
   ],
   "source": [
    "# Обучение: без групповой CV (train/val + KFold)\n",
    "\n",
    "X_train, X_val, y_train, y_val = train_test_split(\n",
    "    X, y, test_size=0.2, random_state=42\n",
    ")\n",
    "\n",
    "# Ridge\n",
    "ridge = Pipeline([('scaler', StandardScaler(with_mean=False)), ('model', Ridge(alpha=1.0, random_state=42))])\n",
    "ridge.fit(X_train, y_train)\n",
    "ridge_pred = ridge.predict(X_val)\n",
    "\n",
    "ridge_mae = mean_absolute_error(y_val, ridge_pred)\n",
    "ridge_rmse = np.sqrt(mean_squared_error(y_val, ridge_pred))\n",
    "ridge_r2 = r2_score(y_val, ridge_pred)\n",
    "\n",
    "print(f'Ridge(val): MAE={ridge_mae:.4f}, RMSE={ridge_rmse:.4f}, R2={ridge_r2:.4f}')\n",
    "\n",
    "# RandomForest\n",
    "rf = RandomForestRegressor(n_estimators=300, n_jobs=-1, random_state=42)\n",
    "rf.fit(X_train, y_train)\n",
    "rf_pred = rf.predict(X_val)\n",
    "\n",
    "rf_mae = mean_absolute_error(y_val, rf_pred)\n",
    "rf_rmse = np.sqrt(mean_squared_error(y_val, rf_pred))\n",
    "rf_r2 = r2_score(y_val, rf_pred)\n",
    "\n",
    "print(f'RF(val):    MAE={rf_mae:.4f}, RMSE={rf_rmse:.4f}, R2={rf_r2:.4f}')\n",
    "\n",
    "# KFold (без групп)\n",
    "K = 5\n",
    "kf = KFold(n_splits=K, shuffle=True, random_state=42)\n",
    "rows = []\n",
    "for fold, (tr, va) in enumerate(kf.split(X, y), 1):\n",
    "    X_tr, X_va = X.iloc[tr], X.iloc[va]\n",
    "    y_tr, y_va = y.iloc[tr], y.iloc[va]\n",
    "\n",
    "    r = Pipeline([('scaler', StandardScaler(with_mean=False)), ('model', Ridge(alpha=1.0, random_state=42))])\n",
    "    r.fit(X_tr, y_tr)\n",
    "    pr = r.predict(X_va)\n",
    "    rows.append({'model':'Ridge','fold':fold,'MAE':mean_absolute_error(y_va, pr),'RMSE':np.sqrt(mean_squared_error(y_va, pr)),'R2':r2_score(y_va, pr)})\n",
    "\n",
    "    rf_k = RandomForestRegressor(n_estimators=300, n_jobs=-1, random_state=42)\n",
    "    rf_k.fit(X_tr, y_tr)\n",
    "    prf = rf_k.predict(X_va)\n",
    "    rows.append({'model':'RandomForest','fold':fold,'MAE':mean_absolute_error(y_va, prf),'RMSE':np.sqrt(mean_squared_error(y_va, prf)),'R2':r2_score(y_va, prf)})\n",
    "\n",
    "cv_avt = pd.DataFrame(rows)\n",
    "print('Средние метрики KFold:')\n",
    "print(cv_avt.groupby('model')[['MAE','RMSE','R2']].agg(['mean','std']).round(4))\n"
   ]
  },
  {
   "cell_type": "code",
   "execution_count": 9,
   "metadata": {},
   "outputs": [
    {
     "name": "stdout",
     "output_type": "stream",
     "text": [
      "Сохранено: ../data/ml_baseline_avt_results.json\n"
     ]
    }
   ],
   "source": [
    "# Сохранение результатов\n",
    "\n",
    "os.makedirs('../data', exist_ok=True)\n",
    "summary = cv_avt.groupby('model')[['MAE','RMSE','R2']].agg(['mean','std']).round(6)\n",
    "summary.columns = [f'{m}_{s}' for m, s in summary.columns]\n",
    "cv_summary = summary.reset_index().to_dict(orient='records')\n",
    "\n",
    "results = {\n",
    "    'filtered_by': 'АВТ',\n",
    "    'features_used': list(X.columns),\n",
    "    'val_results': {\n",
    "        'Ridge': {'MAE': float(ridge_mae), 'RMSE': float(ridge_rmse), 'R2': float(ridge_r2)},\n",
    "        'RandomForest': {'MAE': float(rf_mae), 'RMSE': float(rf_rmse), 'R2': float(rf_r2)}\n",
    "    },\n",
    "    'cv_summary': cv_summary\n",
    "}\n",
    "\n",
    "with open('../data/ml_baseline_avt_results.json', 'w', encoding='utf-8') as f:\n",
    "    json.dump(results, f, ensure_ascii=False, indent=2)\n",
    "\n",
    "print('Сохранено: ../data/ml_baseline_avt_results.json')\n"
   ]
  },
  {
   "cell_type": "code",
   "execution_count": null,
   "metadata": {},
   "outputs": [],
   "source": []
  }
 ],
 "metadata": {
  "kernelspec": {
   "display_name": "Python 3 (ipykernel)",
   "language": "python",
   "name": "python3"
  },
  "language_info": {
   "codemirror_mode": {
    "name": "ipython",
    "version": 3
   },
   "file_extension": ".py",
   "mimetype": "text/x-python",
   "name": "python",
   "nbconvert_exporter": "python",
   "pygments_lexer": "ipython3",
   "version": "3.11.9"
  }
 },
 "nbformat": 4,
 "nbformat_minor": 4
}

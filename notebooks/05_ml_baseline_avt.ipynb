{
 "cells": [
  {
   "cell_type": "markdown",
   "metadata": {},
   "source": [
    "## ML Baseline: урезанный фичсет без групповой CV (без фильтра по АВТ)\n",
    "\n",
    "Цель: получить сравнимую базовую линию на всём корпусе без текстового фильтра,\n",
    "используя минимально достаточный набор признаков:\n",
    "- геометрия: `cross_sectional_area`;\n",
    "- материал: `material_resistance_score`;\n",
    "- операционные: `operating_temperature`, `operating_pressure`;\n",
    "- химические (2–3 ключевых): `sulfur_content`, `total_sulfur_compounds`, `h2s_content` (если доступны).\n",
    "\n",
    "Здесь НЕ используем групповую валидацию по установкам — намеренно оцениваем упрощенный сценарий.\n"
   ]
  },
  {
   "cell_type": "code",
   "execution_count": 33,
   "metadata": {},
   "outputs": [
    {
     "name": "stdout",
     "output_type": "stream",
     "text": [
      "Версии: {'python': '3.11.9 (tags/v3.11.9:de54cf5, Apr  2 2024, 10:12:12) [MSC v.1938 64 bit (AMD64)]', 'numpy': '2.3.4', 'pandas': '2.3.3', 'sklearn': '1.7.2'}\n"
     ]
    }
   ],
   "source": [
    "# Импорты\n",
    "import os, sys, json\n",
    "import numpy as np\n",
    "import pandas as pd\n",
    "from typing import List\n",
    "\n",
    "# Визуализации опционально\n",
    "import matplotlib.pyplot as plt\n",
    "import seaborn as sns\n",
    "\n",
    "# Данные\n",
    "if '../src' not in sys.path:\n",
    "    sys.path.append('../src')\n",
    "from database import load_corrosion_data\n",
    "\n",
    "# ML\n",
    "import sklearn\n",
    "from sklearn.model_selection import train_test_split, KFold\n",
    "from sklearn.metrics import mean_absolute_error, r2_score, mean_squared_error\n",
    "from sklearn.linear_model import Ridge\n",
    "from sklearn.ensemble import RandomForestRegressor\n",
    "from sklearn.preprocessing import StandardScaler\n",
    "from sklearn.pipeline import Pipeline\n",
    "\n",
    "print('Версии:', {'python': sys.version, 'numpy': np.__version__, 'pandas': pd.__version__, 'sklearn': sklearn.__version__})\n"
   ]
  },
  {
   "cell_type": "markdown",
   "metadata": {},
   "source": [
    "### Про нули в химических признаках\n",
    "\n",
    "- Ноль трактуем как «компонент отсутствует» — это нормальная и полезная информация для модели.\n",
    "- Пропуски (NaN) — это «значение не измерено»; мы имитируем отсутствие компонент значением 0, чтобы модель могла их использовать. Для линейных моделей дополнительно масштабируем признаки.\n",
    "- Подробнее про импутацию: https://scikit-learn.org/stable/modules/impute.html\n"
   ]
  },
  {
   "cell_type": "code",
   "execution_count": 40,
   "metadata": {},
   "outputs": [
    {
     "name": "stdout",
     "output_type": "stream",
     "text": [
      "Всего записей: 442,052\n"
     ]
    }
   ],
   "source": [
    "# Загрузка данных\n",
    "df = load_corrosion_data()\n",
    "print(f\"Всего записей: {len(df):,}\")"
   ]
  },
  {
   "cell_type": "code",
   "execution_count": 41,
   "metadata": {},
   "outputs": [
    {
     "name": "stdout",
     "output_type": "stream",
     "text": [
      "После фильтрации цели: 313,132\n"
     ]
    }
   ],
   "source": [
    "# Работаем на всём корпусе без строкового фильтра (Ранее стаял фильтр по АВТ)\n",
    "df_avt = df.copy()\n",
    "\n",
    "TARGET = 'corrosion_rate'\n",
    "df_avt = df_avt[df_avt[TARGET].notna() & (df_avt[TARGET] >= 0) & (df_avt[TARGET] <= 10)]\n",
    "print(f\"После фильтрации цели: {len(df_avt):,}\")\n"
   ]
  },
  {
   "cell_type": "code",
   "execution_count": 42,
   "metadata": {},
   "outputs": [
    {
     "name": "stdout",
     "output_type": "stream",
     "text": [
      "Признаки к использованию: ['cross_sectional_area', 'material_resistance_score', 'operating_temperature', 'operating_pressure', 'sulfur_content', 'total_sulfur_compounds', 'h2s_content', 'water_content', 'oxygen_content']\n",
      "Проверка пропусков после импутации: 0\n"
     ]
    }
   ],
   "source": [
    "# Формируем урезанный список признаков\n",
    "\n",
    "base_features = [\n",
    "    'cross_sectional_area',\n",
    "    'material_resistance_score',\n",
    "    'operating_temperature',\n",
    "    'operating_pressure'\n",
    "]\n",
    "\n",
    "chemical_candidates = ['sulfur_content','total_sulfur_compounds','h2s_content','water_content','oxygen_content']\n",
    "\n",
    "features = [c for c in base_features + chemical_candidates if c in df_avt.columns]\n",
    "print('Признаки к использованию:', features)\n",
    "\n",
    "X = df_avt[features].copy()\n",
    "y = df_avt[TARGET].astype(float)\n",
    "\n",
    "# Импутация: химические NaN -> 0 (нет данных ~ нет компонента), прочие NaN -> медиана\n",
    "for c in features:\n",
    "    if c in chemical_candidates:\n",
    "        X[c] = X[c].fillna(0)\n",
    "    else:\n",
    "        X[c] = X[c].fillna(X[c].median())\n",
    "\n",
    "print('Проверка пропусков после импутации:', int(X.isna().sum().sum()))\n"
   ]
  },
  {
   "cell_type": "code",
   "execution_count": 43,
   "metadata": {},
   "outputs": [
    {
     "name": "stdout",
     "output_type": "stream",
     "text": [
      "Добавлены взаимодействия: ['water_content_x_operating_temperature', 'oxygen_content_x_operating_temperature']\n"
     ]
    }
   ],
   "source": [
    "# Взаимодействия химия × температура\n",
    "\n",
    "interaction_features = []\n",
    "if 'operating_temperature' in X.columns:\n",
    "    if 'water_content' in X.columns:\n",
    "        name = 'water_content_x_operating_temperature'\n",
    "        X[name] = X['water_content'] * X['operating_temperature']\n",
    "        interaction_features.append(name)\n",
    "    if 'oxygen_content' in X.columns:\n",
    "        name = 'oxygen_content_x_operating_temperature'\n",
    "        X[name] = X['oxygen_content'] * X['operating_temperature']\n",
    "        interaction_features.append(name)\n",
    "\n",
    "print('Добавлены взаимодействия:', interaction_features)\n"
   ]
  },
  {
   "cell_type": "code",
   "execution_count": 44,
   "metadata": {},
   "outputs": [
    {
     "name": "stdout",
     "output_type": "stream",
     "text": [
      "ТОП-10 установок по RF_R2:\n",
      "installation  n_samples  Ridge_MAE  Ridge_RMSE  Ridge_R2   RF_MAE  RF_RMSE    RF_R2\n",
      "        KK-2      37814   0.047469    0.077337  0.019540 0.043535 0.064476 0.318520\n",
      "       АВТ-5      59667   0.046341    0.090325  0.036232 0.041681 0.080363 0.237095\n",
      "          КК      97477   0.038035    0.069981  0.007891 0.037224 0.066590 0.101717\n",
      "       АВТ-6      74299   0.066174    0.162034  0.021974 0.061752 0.157295 0.078349\n",
      "       АВТ-2      24963   0.220496    0.471466  0.009017 0.212879 0.458253 0.063787\n",
      "       АВТ-1      18912   0.068123    0.234358  0.022447 0.065542 0.231256 0.048149\n",
      "Сохранено: ../data/ml_baseline_avt_per_installation.json\n",
      "Сохранено: ../data/ml_baseline_avt_per_installation.csv\n"
     ]
    }
   ],
   "source": [
    "# Модели по каждой installation: отдельные метрики\n",
    "\n",
    "from sklearn.model_selection import train_test_split\n",
    "\n",
    "key_col = 'installation' if 'installation' in df_avt.columns else ('equipment' if 'equipment' in df_avt.columns else None)\n",
    "if key_col is None:\n",
    "    raise ValueError('Нет поля installation/equipment для группировки')\n",
    "\n",
    "per_results = []\n",
    "min_samples = 150  # минимальный размер выборки для обучения на установке\n",
    "\n",
    "unique_keys = (\n",
    "    df_avt[key_col].dropna().astype(str).unique()\n",
    ")\n",
    "\n",
    "for k in sorted(unique_keys):\n",
    "    mask_k = df_avt[key_col].astype(str) == k\n",
    "    n_k = int(mask_k.sum())\n",
    "    if n_k < min_samples:\n",
    "        continue\n",
    "\n",
    "    Xk = X.loc[mask_k]\n",
    "    yk = y.loc[mask_k]\n",
    "\n",
    "    X_tr, X_va, y_tr, y_va = train_test_split(Xk, yk, test_size=0.2, random_state=42)\n",
    "\n",
    "    # Ridge\n",
    "    ridge = Pipeline([('scaler', StandardScaler(with_mean=False)), ('model', Ridge(alpha=1.0, random_state=42))])\n",
    "    ridge.fit(X_tr, y_tr)\n",
    "    pr = ridge.predict(X_va)\n",
    "    ridge_mae = mean_absolute_error(y_va, pr)\n",
    "    ridge_rmse = np.sqrt(mean_squared_error(y_va, pr))\n",
    "    ridge_r2 = r2_score(y_va, pr)\n",
    "\n",
    "    # RandomForest\n",
    "    rf = RandomForestRegressor(n_estimators=300, n_jobs=-1, random_state=42)\n",
    "    rf.fit(X_tr, y_tr)\n",
    "    prf = rf.predict(X_va)\n",
    "    rf_mae = mean_absolute_error(y_va, prf)\n",
    "    rf_rmse = np.sqrt(mean_squared_error(y_va, prf))\n",
    "    rf_r2 = r2_score(y_va, prf)\n",
    "\n",
    "    per_results.append({\n",
    "        key_col: k,\n",
    "        'n_samples': n_k,\n",
    "        'Ridge_MAE': float(ridge_mae),\n",
    "        'Ridge_RMSE': float(ridge_rmse),\n",
    "        'Ridge_R2': float(ridge_r2),\n",
    "        'RF_MAE': float(rf_mae),\n",
    "        'RF_RMSE': float(rf_rmse),\n",
    "        'RF_R2': float(rf_r2)\n",
    "    })\n",
    "\n",
    "per_df = pd.DataFrame(per_results).sort_values(['RF_R2','Ridge_R2'], ascending=False)\n",
    "print('ТОП-10 установок по RF_R2:')\n",
    "print(per_df.head(10).to_string(index=False))\n",
    "\n",
    "# Сохранение\n",
    "os.makedirs('../data', exist_ok=True)\n",
    "per_json = '../data/ml_baseline_avt_per_installation.json'\n",
    "per_csv = '../data/ml_baseline_avt_per_installation.csv'\n",
    "with open(per_json, 'w', encoding='utf-8') as f:\n",
    "    json.dump(per_results, f, ensure_ascii=False, indent=2)\n",
    "per_df.to_csv(per_csv, index=False, encoding='utf-8')\n",
    "print(f'Сохранено: {per_json}\\nСохранено: {per_csv}')\n"
   ]
  },
  {
   "cell_type": "code",
   "execution_count": null,
   "metadata": {},
   "outputs": [],
   "source": []
  }
 ],
 "metadata": {
  "kernelspec": {
   "display_name": "Python 3 (ipykernel)",
   "language": "python",
   "name": "python3"
  },
  "language_info": {
   "codemirror_mode": {
    "name": "ipython",
    "version": 3
   },
   "file_extension": ".py",
   "mimetype": "text/x-python",
   "name": "python",
   "nbconvert_exporter": "python",
   "pygments_lexer": "ipython3",
   "version": "3.11.9"
  }
 },
 "nbformat": 4,
 "nbformat_minor": 4
}

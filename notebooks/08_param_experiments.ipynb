{
 "cells": [
  {
   "cell_type": "markdown",
   "metadata": {},
   "source": [
    "## 08: Эксперименты с признаками (оригинальные названия колонок)\n",
    "\n",
    "Здесь собраны функции:\n",
    "- run_experiment(columns, experiment_name, installation_name=None) — обучает модели на выбранных колонках; выводит таблицу MAE и R².\n",
    "- compute_target_correlations(df, target='corrosion_rate', feature_cols=None, top_k=30) — считает корреляции признаков с целью и выводит топ по абсолютной величине.\n",
    "\n",
    "Колонки передаются в оригинальных именах из таблицы (без мэппинга).\n"
   ]
  },
  {
   "cell_type": "code",
   "execution_count": 1,
   "metadata": {},
   "outputs": [
    {
     "name": "stdout",
     "output_type": "stream",
     "text": [
      "ОК\n"
     ]
    }
   ],
   "source": [
    "# Импорты и загрузка\n",
    "import os, sys\n",
    "import numpy as np\n",
    "import pandas as pd\n",
    "\n",
    "if '../src' not in sys.path:\n",
    "    sys.path.append('../src')\n",
    "from database import load_corrosion_data\n",
    "\n",
    "from sklearn.model_selection import train_test_split\n",
    "from sklearn.metrics import mean_absolute_error, r2_score, mean_squared_error\n",
    "from sklearn.linear_model import Ridge\n",
    "from sklearn.ensemble import RandomForestRegressor\n",
    "from sklearn.preprocessing import StandardScaler\n",
    "from sklearn.pipeline import Pipeline\n",
    "\n",
    "print('ОК')\n"
   ]
  },
  {
   "cell_type": "code",
   "execution_count": 2,
   "metadata": {},
   "outputs": [
    {
     "name": "stdout",
     "output_type": "stream",
     "text": [
      "Данные загружены: 442,052 строк, 64 колонок\n",
      "Список колонок:\n",
      "['acetic_acid_content', 'ammonia_content', 'ammonium_content', 'butane_content', 'butylene_content', 'chlorine_content', 'co2_content', 'component', 'component_type_id', 'component_type_name', 'contour', 'corrosion_inhibitor_content', 'corrosion_rate', 'cross_sectional_area', 'diameter_to_thickness_ratio', 'diesel_content', 'equipment', 'ethane_content', 'ethylene_content', 'gasoline_c6_c8_content', 'h2s_content', 'heavy_naphtha_content', 'hexane_content', 'hydrochloric_acid_content', 'hydrogen_content', 'hydrogen_fluoride_content', 'id', 'inner_diameter', 'installation', 'is_replaced', 'isobutane_content', 'isopentane_content', 'kerosene_content', 'material_code', 'material_resistance_score', 'material_type', 'measurement', 'measurement_date', 'methane_content', 'mms', 'naphthenic_acid_content', 'nitrogen_content', 'nominal_thickness_mmc', 'operating_pressure', 'operating_temperature', 'outer_diameter', 'oxygen_content', 'pentane_content', 'propane_content', 'propylene_content', 'radius', 'residues_content', 'sodium_hydroxide_content', 'start_date_of_operation', 'sulfur_content', 'sulfuric_acid_content', 'tmin_mmc', 'total_acids', 'total_chlorine_compounds', 'total_components', 'total_composition', 'total_sulfur_compounds', 'wall_thickness', 'water_content']\n"
     ]
    }
   ],
   "source": [
    "# Загрузка данных\n",
    "DF = load_corrosion_data()\n",
    "TARGET = 'corrosion_rate'\n",
    "assert TARGET in DF.columns, 'В данных отсутствует corrosion_rate'\n",
    "\n",
    "print(f\"Данные загружены: {len(DF):,} строк, {len(DF.columns)} колонок\")\n",
    "print('Список колонок:')\n",
    "print(sorted(list(DF.columns)))"
   ]
  },
  {
   "cell_type": "code",
   "execution_count": 16,
   "metadata": {},
   "outputs": [
    {
     "name": "stdout",
     "output_type": "stream",
     "text": [
      "Доступные установки: ['KK-2', 'АВТ-1', 'АВТ-2', 'АВТ-5', 'АВТ-6', 'КК']\n"
     ]
    }
   ],
   "source": [
    "# Проверяем наличие колонки installation\n",
    "if 'installation' in DF.columns:\n",
    "    print(\"Доступные установки:\", sorted(DF['installation'].unique()))"
   ]
  },
  {
   "cell_type": "code",
   "execution_count": 42,
   "metadata": {},
   "outputs": [],
   "source": [
    "def compute_target_correlations(df: pd.DataFrame, target: str = TARGET,\n",
    "                                feature_cols: list | None = None,\n",
    "                                top_k: int = 30, method: str = 'pearson',\n",
    "                                return_best_features: bool = True) -> tuple[pd.DataFrame, list] | pd.DataFrame:\n",
    "    \"\"\"\n",
    "    Вычисляет корреляции признаков с целевой переменной и возвращает лучшие признаки\n",
    "    \n",
    "    Parameters:\n",
    "    -----------\n",
    "    df : pd.DataFrame\n",
    "        DataFrame с данными\n",
    "    target : str\n",
    "        Название целевой колонки\n",
    "    feature_cols : list, optional\n",
    "        Список признаков для анализа. Если None, используются все числовые колонки\n",
    "    top_k : int\n",
    "        Количество топ-признаков для возврата\n",
    "    method : str\n",
    "        Метод корреляции ('pearson' или 'spearman')\n",
    "    return_best_features : bool\n",
    "        Если True, возвращает кортеж (DataFrame, list), иначе только DataFrame\n",
    "    \n",
    "    Returns:\n",
    "    --------\n",
    "    tuple[pd.DataFrame, list] or pd.DataFrame\n",
    "        DataFrame с корреляциями и список лучших признаков, либо только DataFrame\n",
    "    \"\"\"\n",
    "    if target not in df.columns:\n",
    "        raise ValueError(f\"Целевая колонка '{target}' отсутствует\")\n",
    "\n",
    "    # Только числовые признаки\n",
    "    num_df = df.select_dtypes(include=[np.number]).copy()\n",
    "    if feature_cols is not None and len(feature_cols) > 0:\n",
    "        feature_cols = [c for c in feature_cols if c in num_df.columns and c != target]\n",
    "    else:\n",
    "        feature_cols = [c for c in num_df.columns if c != target]\n",
    "\n",
    "    # Очистка по цели\n",
    "    valid = num_df[target].notna()\n",
    "    num_df = num_df.loc[valid]\n",
    "\n",
    "    # Стандартное ограничение цели\n",
    "    y = num_df[target]\n",
    "\n",
    "    # Корреляции\n",
    "    if method == 'pearson':\n",
    "        corr_series = num_df[feature_cols].corrwith(y)\n",
    "    elif method == 'spearman':\n",
    "        corr_series = num_df[feature_cols].rank().corrwith(y.rank())\n",
    "    else:\n",
    "        raise ValueError(\"method должен быть 'pearson' или 'spearman'\")\n",
    "\n",
    "    # Сортировка по абсолютному значению\n",
    "    res = corr_series.dropna().sort_values(key=lambda s: s.abs(), ascending=False)\n",
    "    if top_k:\n",
    "        res = res.head(top_k)\n",
    "\n",
    "    # Создание DataFrame с результатами\n",
    "    out_df = pd.DataFrame({'feature': res.index, 'corr': res.values})\n",
    "    \n",
    "    # Список лучших признаков\n",
    "    best_features = res.index.tolist()\n",
    "    \n",
    "    # Вывод результатов\n",
    "    print(\"ТОП-{} ПРИЗНАКОВ ПО КОРРЕЛЯЦИИ С {}:\".format(top_k, target))\n",
    "    print(\"=\" * 60)\n",
    "    for i, (feature, corr) in enumerate(zip(out_df['feature'], out_df['corr']), 1):\n",
    "        significance = \"***\" if abs(corr) > 0.3 else \"** \" if abs(corr) > 0.2 else \"*  \" if abs(corr) > 0.1 else \"   \"\n",
    "        direction = \"↑\" if corr > 0 else \"↓\"\n",
    "        print(f\"{i:2d}. {significance} {feature:30} : {corr:+.4f} {direction}\")\n",
    "    \n",
    "    print(f\"\\nВсего проанализировано признаков: {len(feature_cols)}\")\n",
    "    print(f\"Возвращено топ-признаков: {len(best_features)}\")\n",
    "    \n",
    "    if return_best_features:\n",
    "        return out_df, best_features\n",
    "    else:\n",
    "        return out_df"
   ]
  },
  {
   "cell_type": "code",
   "execution_count": 41,
   "metadata": {},
   "outputs": [],
   "source": [
    "# Функция: корреляции признаков с целью\n",
    "\n",
    "def compute_target_correlations(df: pd.DataFrame, target: str = TARGET,\n",
    "                                feature_cols: list | None = None,\n",
    "                                top_k: int = 30, method: str = 'pearson') -> pd.DataFrame:\n",
    "    if target not in df.columns:\n",
    "        raise ValueError(f\"Целевая колонка '{target}' отсутствует\")\n",
    "\n",
    "    # Только числовые признаки\n",
    "    num_df = df.select_dtypes(include=[np.number]).copy()\n",
    "    if feature_cols is not None and len(feature_cols) > 0:\n",
    "        feature_cols = [c for c in feature_cols if c in num_df.columns and c != target]\n",
    "    else:\n",
    "        feature_cols = [c for c in num_df.columns if c != target]\n",
    "\n",
    "    # Очистка по цели\n",
    "    valid = num_df[target].notna()\n",
    "    num_df = num_df.loc[valid]\n",
    "\n",
    "    # Стандартное ограничение цели\n",
    "    y = num_df[target]\n",
    "\n",
    "    # Корреляции\n",
    "    if method == 'pearson':\n",
    "        corr_series = num_df[feature_cols].corrwith(y)\n",
    "    elif method == 'spearman':\n",
    "        corr_series = num_df[feature_cols].rank().corrwith(y.rank())\n",
    "    else:\n",
    "        raise ValueError(\"method должен быть 'pearson' или 'spearman'\")\n",
    "\n",
    "    res = corr_series.dropna().sort_values(key=lambda s: s.abs(), ascending=False)\n",
    "    if top_k:\n",
    "        res = res.head(top_k)\n",
    "\n",
    "    out = pd.DataFrame({'feature': res.index, 'corr': res.values})\n",
    "    print(out.to_string(index=False))\n",
    "    return out\n"
   ]
  },
  {
   "cell_type": "code",
   "execution_count": 19,
   "metadata": {},
   "outputs": [],
   "source": [
    "# Функция запуска эксперимента\n",
    "def run_experiment(df_filtered: pd.DataFrame, columns: list, experiment_name: str,\n",
    "                   test_size: float = 0.2, random_state: int = 42) -> pd.DataFrame:\n",
    "    \"\"\"\n",
    "    Запускает эксперимент машинного обучения на предварительно отфильтрованных данных\n",
    "    \n",
    "    Parameters:\n",
    "    -----------\n",
    "    df_filtered : pd.DataFrame\n",
    "        Предварительно отфильтрованный DataFrame с данными\n",
    "    columns : list\n",
    "        Список колонок для использования в качестве признаков\n",
    "    experiment_name : str\n",
    "        Название эксперимента для идентификации\n",
    "    test_size : float\n",
    "        Доля тестовой выборки (по умолчанию 0.2)\n",
    "    random_state : int\n",
    "        Seed для воспроизводимости (по умолчанию 42)\n",
    "    \n",
    "    Returns:\n",
    "    --------\n",
    "    pd.DataFrame\n",
    "        DataFrame с результатами эксперимента\n",
    "    \"\"\"\n",
    "    if not isinstance(columns, (list, tuple)) or len(columns) == 0:\n",
    "        raise ValueError('columns должен быть непустым списком колонок')\n",
    "    \n",
    "    if len(df_filtered) < 10:\n",
    "        raise ValueError(f\"Слишком мало данных для обучения: {len(df_filtered)} строк\")\n",
    "    \n",
    "    # Используем переданный DataFrame\n",
    "    df_use = df_filtered.copy()\n",
    "    context = f\"n_samples={len(df_use)}\"\n",
    "    \n",
    "    X, y = build_xy_from_columns(df_use, columns, target=TARGET)\n",
    "    \n",
    "    if len(X) < 50:\n",
    "        print(f\"Предупреждение: мало данных для обучения: {len(X)} строк\")\n",
    "    \n",
    "    X_tr, X_va, y_tr, y_va = train_test_split(X, y, test_size=test_size, random_state=random_state)\n",
    "\n",
    "    # Ridge\n",
    "    ridge = Pipeline([\n",
    "        ('scaler', StandardScaler(with_mean=False)), \n",
    "        ('model', Ridge(alpha=1.0, random_state=random_state))\n",
    "    ])\n",
    "    ridge.fit(X_tr, y_tr)\n",
    "    pr = ridge.predict(X_va)\n",
    "\n",
    "    # RandomForest\n",
    "    rf = RandomForestRegressor(n_estimators=300, n_jobs=-1, random_state=random_state)\n",
    "    rf.fit(X_tr, y_tr)\n",
    "    prf = rf.predict(X_va)\n",
    "\n",
    "    res = pd.DataFrame([\n",
    "        {\n",
    "            'experiment': experiment_name, \n",
    "            'context': context, \n",
    "            'model': 'Ridge',\n",
    "            'MAE': mean_absolute_error(y_va, pr), \n",
    "            'R2': r2_score(y_va, pr), \n",
    "            'n_samples': len(X),\n",
    "            'n_features': len(columns)\n",
    "        },\n",
    "        {\n",
    "            'experiment': experiment_name, \n",
    "            'context': context, \n",
    "            'model': 'RandomForest',\n",
    "            'MAE': mean_absolute_error(y_va, prf), \n",
    "            'R2': r2_score(y_va, prf), \n",
    "            'n_samples': len(X),\n",
    "            'n_features': len(columns)\n",
    "        },\n",
    "    ])\n",
    "    print(res.to_string(index=False))\n",
    "    return res"
   ]
  },
  {
   "cell_type": "code",
   "execution_count": 21,
   "metadata": {},
   "outputs": [
    {
     "name": "stdout",
     "output_type": "stream",
     "text": [
      "После фильтрации по 'KK-2': 75,510 строк\n"
     ]
    }
   ],
   "source": [
    "# Фильтрация по конкретной установке\n",
    "INSTALLATION_FILTER = 'KK-2'\n",
    "df_kk_1 = DF[DF['installation'] == INSTALLATION_FILTER]\n",
    "\n",
    "print(f\"После фильтрации по '{INSTALLATION_FILTER}': {len(df_kk_1):,} строк\")"
   ]
  },
  {
   "cell_type": "code",
   "execution_count": 46,
   "metadata": {},
   "outputs": [
    {
     "name": "stdout",
     "output_type": "stream",
     "text": [
      "ТОП-20 ПРИЗНАКОВ ПО КОРРЕЛЯЦИИ С corrosion_rate:\n",
      "============================================================\n",
      " 1.     hydrogen_content               : +0.0789 ↑\n",
      " 2.     sodium_hydroxide_content       : -0.0772 ↓\n",
      " 3.     butylene_content               : +0.0553 ↑\n",
      " 4.     propylene_content              : -0.0368 ↓\n",
      " 5.     isopentane_content             : +0.0332 ↑\n",
      " 6.     nitrogen_content               : -0.0248 ↓\n",
      " 7.     chlorine_content               : +0.0231 ↑\n",
      " 8.     oxygen_content                 : -0.0222 ↓\n",
      " 9.     ethylene_content               : -0.0215 ↓\n",
      "10.     butane_content                 : -0.0201 ↓\n",
      "11.     pentane_content                : -0.0196 ↓\n",
      "12.     sulfur_content                 : +0.0190 ↑\n",
      "13.     methane_content                : -0.0173 ↓\n",
      "14.     operating_temperature          : +0.0151 ↑\n",
      "15.     corrosion_inhibitor_content    : +0.0150 ↑\n",
      "16.     gasoline_c6_c8_content         : -0.0137 ↓\n",
      "17.     heavy_naphtha_content          : -0.0129 ↓\n",
      "18.     residues_content               : +0.0103 ↑\n",
      "19.     kerosene_content               : -0.0099 ↓\n",
      "20.     co2_content                    : -0.0090 ↓\n",
      "\n",
      "Всего проанализировано признаков: 47\n",
      "Возвращено топ-признаков: 20\n",
      "Лучшие признаки: ['hydrogen_content', 'sodium_hydroxide_content', 'butylene_content', 'propylene_content', 'isopentane_content', 'nitrogen_content', 'chlorine_content', 'oxygen_content', 'ethylene_content', 'butane_content', 'pentane_content', 'sulfur_content', 'methane_content', 'operating_temperature', 'corrosion_inhibitor_content', 'gasoline_c6_c8_content', 'heavy_naphtha_content', 'residues_content', 'kerosene_content', 'co2_content']\n"
     ]
    },
    {
     "name": "stderr",
     "output_type": "stream",
     "text": [
      "C:\\Users\\admin\\AppData\\Local\\Programs\\Python\\Python311\\Lib\\site-packages\\numpy\\lib\\_function_base_impl.py:3065: RuntimeWarning: invalid value encountered in divide\n",
      "  c /= stddev[:, None]\n",
      "C:\\Users\\admin\\AppData\\Local\\Programs\\Python\\Python311\\Lib\\site-packages\\numpy\\lib\\_function_base_impl.py:3066: RuntimeWarning: invalid value encountered in divide\n",
      "  c /= stddev[None, :]\n"
     ]
    }
   ],
   "source": [
    "cols = ['acetic_acid_content', 'ammonia_content', 'ammonium_content', 'butane_content', 'butylene_content', 'chlorine_content', 'co2_content', 'component_type_id',\n",
    "        'corrosion_inhibitor_content', 'cross_sectional_area', 'diameter_to_thickness_ratio', 'diesel_content', 'ethane_content', 'ethylene_content', 'gasoline_c6_c8_content', 'h2s_content', \n",
    "        'heavy_naphtha_content', 'hexane_content', 'hydrochloric_acid_content', 'hydrogen_content',\n",
    "        'hydrogen_fluoride_content', 'inner_diameter', 'installation', 'is_replaced', 'isobutane_content', 'isopentane_content', 'kerosene_content', 'material_code', \n",
    "        'material_resistance_score', 'material_type',  'methane_content', 'naphthenic_acid_content', 'nitrogen_content', 'nominal_thickness_mmc',\n",
    "        'operating_pressure', 'operating_temperature', 'outer_diameter', 'oxygen_content', 'pentane_content', 'propane_content', 'propylene_content', 'radius', 'residues_content',\n",
    "        'sodium_hydroxide_content', 'sulfur_content', 'sulfuric_acid_content', 'total_acids', 'total_chlorine_compounds', 'total_components', \n",
    "        'total_composition', 'total_sulfur_compounds', 'wall_thickness', 'water_content']\n",
    "\n",
    "\n",
    "\n",
    "corr_df, best_features = compute_target_correlations(DF, TARGET, top_k=20)\n",
    "print(f\"Лучшие признаки: {best_features}\")"
   ]
  },
  {
   "cell_type": "code",
   "execution_count": 54,
   "metadata": {},
   "outputs": [
    {
     "name": "stdout",
     "output_type": "stream",
     "text": [
      "experiment         context        model      MAE       R2  n_samples  n_features\n",
      "    1_KK-1 n_samples=75510        Ridge 0.047467 0.012349      37814           2\n",
      "    1_KK-1 n_samples=75510 RandomForest 0.043952 0.246160      37814           2\n"
     ]
    },
    {
     "data": {
      "text/html": [
       "<div>\n",
       "<style scoped>\n",
       "    .dataframe tbody tr th:only-of-type {\n",
       "        vertical-align: middle;\n",
       "    }\n",
       "\n",
       "    .dataframe tbody tr th {\n",
       "        vertical-align: top;\n",
       "    }\n",
       "\n",
       "    .dataframe thead th {\n",
       "        text-align: right;\n",
       "    }\n",
       "</style>\n",
       "<table border=\"1\" class=\"dataframe\">\n",
       "  <thead>\n",
       "    <tr style=\"text-align: right;\">\n",
       "      <th></th>\n",
       "      <th>experiment</th>\n",
       "      <th>context</th>\n",
       "      <th>model</th>\n",
       "      <th>MAE</th>\n",
       "      <th>R2</th>\n",
       "      <th>n_samples</th>\n",
       "      <th>n_features</th>\n",
       "    </tr>\n",
       "  </thead>\n",
       "  <tbody>\n",
       "    <tr>\n",
       "      <th>0</th>\n",
       "      <td>1_KK-1</td>\n",
       "      <td>n_samples=75510</td>\n",
       "      <td>Ridge</td>\n",
       "      <td>0.047467</td>\n",
       "      <td>0.012349</td>\n",
       "      <td>37814</td>\n",
       "      <td>2</td>\n",
       "    </tr>\n",
       "    <tr>\n",
       "      <th>1</th>\n",
       "      <td>1_KK-1</td>\n",
       "      <td>n_samples=75510</td>\n",
       "      <td>RandomForest</td>\n",
       "      <td>0.043952</td>\n",
       "      <td>0.246160</td>\n",
       "      <td>37814</td>\n",
       "      <td>2</td>\n",
       "    </tr>\n",
       "  </tbody>\n",
       "</table>\n",
       "</div>"
      ],
      "text/plain": [
       "  experiment          context         model       MAE        R2  n_samples  \\\n",
       "0     1_KK-1  n_samples=75510         Ridge  0.047467  0.012349      37814   \n",
       "1     1_KK-1  n_samples=75510  RandomForest  0.043952  0.246160      37814   \n",
       "\n",
       "   n_features  \n",
       "0           2  \n",
       "1           2  "
      ]
     },
     "execution_count": 54,
     "metadata": {},
     "output_type": "execute_result"
    }
   ],
   "source": [
    "cols = ['cross_sectional_area','component_type_id']\n",
    "# 'cross_sectional_area'+\n",
    "run_experiment(df_kk_1, cols, experiment_name='1_KK-1')"
   ]
  },
  {
   "cell_type": "code",
   "execution_count": 57,
   "metadata": {},
   "outputs": [
    {
     "name": "stdout",
     "output_type": "stream",
     "text": [
      "experiment         context        model      MAE       R2  n_samples  n_features\n",
      "    1_KK-1 n_samples=75510        Ridge 0.047712 0.030116      37814           3\n",
      "    1_KK-1 n_samples=75510 RandomForest 0.043945 0.246158      37814           3\n"
     ]
    },
    {
     "data": {
      "text/html": [
       "<div>\n",
       "<style scoped>\n",
       "    .dataframe tbody tr th:only-of-type {\n",
       "        vertical-align: middle;\n",
       "    }\n",
       "\n",
       "    .dataframe tbody tr th {\n",
       "        vertical-align: top;\n",
       "    }\n",
       "\n",
       "    .dataframe thead th {\n",
       "        text-align: right;\n",
       "    }\n",
       "</style>\n",
       "<table border=\"1\" class=\"dataframe\">\n",
       "  <thead>\n",
       "    <tr style=\"text-align: right;\">\n",
       "      <th></th>\n",
       "      <th>experiment</th>\n",
       "      <th>context</th>\n",
       "      <th>model</th>\n",
       "      <th>MAE</th>\n",
       "      <th>R2</th>\n",
       "      <th>n_samples</th>\n",
       "      <th>n_features</th>\n",
       "    </tr>\n",
       "  </thead>\n",
       "  <tbody>\n",
       "    <tr>\n",
       "      <th>0</th>\n",
       "      <td>1_KK-1</td>\n",
       "      <td>n_samples=75510</td>\n",
       "      <td>Ridge</td>\n",
       "      <td>0.047712</td>\n",
       "      <td>0.030116</td>\n",
       "      <td>37814</td>\n",
       "      <td>3</td>\n",
       "    </tr>\n",
       "    <tr>\n",
       "      <th>1</th>\n",
       "      <td>1_KK-1</td>\n",
       "      <td>n_samples=75510</td>\n",
       "      <td>RandomForest</td>\n",
       "      <td>0.043945</td>\n",
       "      <td>0.246158</td>\n",
       "      <td>37814</td>\n",
       "      <td>3</td>\n",
       "    </tr>\n",
       "  </tbody>\n",
       "</table>\n",
       "</div>"
      ],
      "text/plain": [
       "  experiment          context         model       MAE        R2  n_samples  \\\n",
       "0     1_KK-1  n_samples=75510         Ridge  0.047712  0.030116      37814   \n",
       "1     1_KK-1  n_samples=75510  RandomForest  0.043945  0.246158      37814   \n",
       "\n",
       "   n_features  \n",
       "0           3  \n",
       "1           3  "
      ]
     },
     "execution_count": 57,
     "metadata": {},
     "output_type": "execute_result"
    }
   ],
   "source": [
    "cols = ['cross_sectional_area','component_type_id','nominal_thickness_mmc']\n",
    "# 'nominal_thickness_mmc'+\n",
    "run_experiment(df_kk_1, cols, experiment_name='1_KK-1')"
   ]
  },
  {
   "cell_type": "code",
   "execution_count": 61,
   "metadata": {},
   "outputs": [
    {
     "name": "stdout",
     "output_type": "stream",
     "text": [
      "experiment         context        model      MAE       R2  n_samples  n_features\n",
      "    1_KK-1 n_samples=75510        Ridge 0.047703 0.034404      37814           4\n",
      "    1_KK-1 n_samples=75510 RandomForest 0.042822 0.327708      37814           4\n"
     ]
    },
    {
     "data": {
      "text/html": [
       "<div>\n",
       "<style scoped>\n",
       "    .dataframe tbody tr th:only-of-type {\n",
       "        vertical-align: middle;\n",
       "    }\n",
       "\n",
       "    .dataframe tbody tr th {\n",
       "        vertical-align: top;\n",
       "    }\n",
       "\n",
       "    .dataframe thead th {\n",
       "        text-align: right;\n",
       "    }\n",
       "</style>\n",
       "<table border=\"1\" class=\"dataframe\">\n",
       "  <thead>\n",
       "    <tr style=\"text-align: right;\">\n",
       "      <th></th>\n",
       "      <th>experiment</th>\n",
       "      <th>context</th>\n",
       "      <th>model</th>\n",
       "      <th>MAE</th>\n",
       "      <th>R2</th>\n",
       "      <th>n_samples</th>\n",
       "      <th>n_features</th>\n",
       "    </tr>\n",
       "  </thead>\n",
       "  <tbody>\n",
       "    <tr>\n",
       "      <th>0</th>\n",
       "      <td>1_KK-1</td>\n",
       "      <td>n_samples=75510</td>\n",
       "      <td>Ridge</td>\n",
       "      <td>0.047703</td>\n",
       "      <td>0.034404</td>\n",
       "      <td>37814</td>\n",
       "      <td>4</td>\n",
       "    </tr>\n",
       "    <tr>\n",
       "      <th>1</th>\n",
       "      <td>1_KK-1</td>\n",
       "      <td>n_samples=75510</td>\n",
       "      <td>RandomForest</td>\n",
       "      <td>0.042822</td>\n",
       "      <td>0.327708</td>\n",
       "      <td>37814</td>\n",
       "      <td>4</td>\n",
       "    </tr>\n",
       "  </tbody>\n",
       "</table>\n",
       "</div>"
      ],
      "text/plain": [
       "  experiment          context         model       MAE        R2  n_samples  \\\n",
       "0     1_KK-1  n_samples=75510         Ridge  0.047703  0.034404      37814   \n",
       "1     1_KK-1  n_samples=75510  RandomForest  0.042822  0.327708      37814   \n",
       "\n",
       "   n_features  \n",
       "0           4  \n",
       "1           4  "
      ]
     },
     "execution_count": 61,
     "metadata": {},
     "output_type": "execute_result"
    }
   ],
   "source": [
    "cols = ['cross_sectional_area','component_type_id','nominal_thickness_mmc','h2s_content']\n",
    "# 'h2s_content'+\n",
    "run_experiment(df_kk_1, cols, experiment_name='1_KK-1')"
   ]
  },
  {
   "cell_type": "code",
   "execution_count": 64,
   "metadata": {},
   "outputs": [
    {
     "name": "stdout",
     "output_type": "stream",
     "text": [
      "experiment         context        model      MAE       R2  n_samples  n_features\n",
      "    1_KK-1 n_samples=75510        Ridge 0.047718 0.033840      37814           5\n",
      "    1_KK-1 n_samples=75510 RandomForest 0.043078 0.313552      37814           5\n"
     ]
    },
    {
     "data": {
      "text/html": [
       "<div>\n",
       "<style scoped>\n",
       "    .dataframe tbody tr th:only-of-type {\n",
       "        vertical-align: middle;\n",
       "    }\n",
       "\n",
       "    .dataframe tbody tr th {\n",
       "        vertical-align: top;\n",
       "    }\n",
       "\n",
       "    .dataframe thead th {\n",
       "        text-align: right;\n",
       "    }\n",
       "</style>\n",
       "<table border=\"1\" class=\"dataframe\">\n",
       "  <thead>\n",
       "    <tr style=\"text-align: right;\">\n",
       "      <th></th>\n",
       "      <th>experiment</th>\n",
       "      <th>context</th>\n",
       "      <th>model</th>\n",
       "      <th>MAE</th>\n",
       "      <th>R2</th>\n",
       "      <th>n_samples</th>\n",
       "      <th>n_features</th>\n",
       "    </tr>\n",
       "  </thead>\n",
       "  <tbody>\n",
       "    <tr>\n",
       "      <th>0</th>\n",
       "      <td>1_KK-1</td>\n",
       "      <td>n_samples=75510</td>\n",
       "      <td>Ridge</td>\n",
       "      <td>0.047718</td>\n",
       "      <td>0.033840</td>\n",
       "      <td>37814</td>\n",
       "      <td>5</td>\n",
       "    </tr>\n",
       "    <tr>\n",
       "      <th>1</th>\n",
       "      <td>1_KK-1</td>\n",
       "      <td>n_samples=75510</td>\n",
       "      <td>RandomForest</td>\n",
       "      <td>0.043078</td>\n",
       "      <td>0.313552</td>\n",
       "      <td>37814</td>\n",
       "      <td>5</td>\n",
       "    </tr>\n",
       "  </tbody>\n",
       "</table>\n",
       "</div>"
      ],
      "text/plain": [
       "  experiment          context         model       MAE        R2  n_samples  \\\n",
       "0     1_KK-1  n_samples=75510         Ridge  0.047718  0.033840      37814   \n",
       "1     1_KK-1  n_samples=75510  RandomForest  0.043078  0.313552      37814   \n",
       "\n",
       "   n_features  \n",
       "0           5  \n",
       "1           5  "
      ]
     },
     "execution_count": 64,
     "metadata": {},
     "output_type": "execute_result"
    }
   ],
   "source": [
    "cols = ['cross_sectional_area','component_type_id','nominal_thickness_mmc','h2s_content','operating_pressure']\n",
    "# 'operating_pressure'-\n",
    "run_experiment(df_kk_1, cols, experiment_name='1_KK-1')"
   ]
  },
  {
   "cell_type": "code",
   "execution_count": 69,
   "metadata": {},
   "outputs": [
    {
     "name": "stdout",
     "output_type": "stream",
     "text": [
      "experiment         context        model      MAE       R2  n_samples  n_features\n",
      "    1_KK-1 n_samples=75510        Ridge 0.047621 0.038263      37814           5\n",
      "    1_KK-1 n_samples=75510 RandomForest 0.042900 0.317462      37814           5\n"
     ]
    },
    {
     "data": {
      "text/html": [
       "<div>\n",
       "<style scoped>\n",
       "    .dataframe tbody tr th:only-of-type {\n",
       "        vertical-align: middle;\n",
       "    }\n",
       "\n",
       "    .dataframe tbody tr th {\n",
       "        vertical-align: top;\n",
       "    }\n",
       "\n",
       "    .dataframe thead th {\n",
       "        text-align: right;\n",
       "    }\n",
       "</style>\n",
       "<table border=\"1\" class=\"dataframe\">\n",
       "  <thead>\n",
       "    <tr style=\"text-align: right;\">\n",
       "      <th></th>\n",
       "      <th>experiment</th>\n",
       "      <th>context</th>\n",
       "      <th>model</th>\n",
       "      <th>MAE</th>\n",
       "      <th>R2</th>\n",
       "      <th>n_samples</th>\n",
       "      <th>n_features</th>\n",
       "    </tr>\n",
       "  </thead>\n",
       "  <tbody>\n",
       "    <tr>\n",
       "      <th>0</th>\n",
       "      <td>1_KK-1</td>\n",
       "      <td>n_samples=75510</td>\n",
       "      <td>Ridge</td>\n",
       "      <td>0.047621</td>\n",
       "      <td>0.038263</td>\n",
       "      <td>37814</td>\n",
       "      <td>5</td>\n",
       "    </tr>\n",
       "    <tr>\n",
       "      <th>1</th>\n",
       "      <td>1_KK-1</td>\n",
       "      <td>n_samples=75510</td>\n",
       "      <td>RandomForest</td>\n",
       "      <td>0.042900</td>\n",
       "      <td>0.317462</td>\n",
       "      <td>37814</td>\n",
       "      <td>5</td>\n",
       "    </tr>\n",
       "  </tbody>\n",
       "</table>\n",
       "</div>"
      ],
      "text/plain": [
       "  experiment          context         model       MAE        R2  n_samples  \\\n",
       "0     1_KK-1  n_samples=75510         Ridge  0.047621  0.038263      37814   \n",
       "1     1_KK-1  n_samples=75510  RandomForest  0.042900  0.317462      37814   \n",
       "\n",
       "   n_features  \n",
       "0           5  \n",
       "1           5  "
      ]
     },
     "execution_count": 69,
     "metadata": {},
     "output_type": "execute_result"
    }
   ],
   "source": [
    "cols = ['cross_sectional_area','component_type_id','nominal_thickness_mmc','h2s_content','operating_temperature']\n",
    "# 'operating_temperature'-\n",
    "run_experiment(df_kk_1, cols, experiment_name='1_KK-1')"
   ]
  },
  {
   "cell_type": "code",
   "execution_count": 73,
   "metadata": {},
   "outputs": [
    {
     "name": "stdout",
     "output_type": "stream",
     "text": [
      "experiment         context        model      MAE       R2  n_samples  n_features\n",
      "    1_KK-1 n_samples=75510        Ridge 0.047670 0.034911      37814           5\n",
      "    1_KK-1 n_samples=75510 RandomForest 0.042856 0.326502      37814           5\n"
     ]
    },
    {
     "data": {
      "text/html": [
       "<div>\n",
       "<style scoped>\n",
       "    .dataframe tbody tr th:only-of-type {\n",
       "        vertical-align: middle;\n",
       "    }\n",
       "\n",
       "    .dataframe tbody tr th {\n",
       "        vertical-align: top;\n",
       "    }\n",
       "\n",
       "    .dataframe thead th {\n",
       "        text-align: right;\n",
       "    }\n",
       "</style>\n",
       "<table border=\"1\" class=\"dataframe\">\n",
       "  <thead>\n",
       "    <tr style=\"text-align: right;\">\n",
       "      <th></th>\n",
       "      <th>experiment</th>\n",
       "      <th>context</th>\n",
       "      <th>model</th>\n",
       "      <th>MAE</th>\n",
       "      <th>R2</th>\n",
       "      <th>n_samples</th>\n",
       "      <th>n_features</th>\n",
       "    </tr>\n",
       "  </thead>\n",
       "  <tbody>\n",
       "    <tr>\n",
       "      <th>0</th>\n",
       "      <td>1_KK-1</td>\n",
       "      <td>n_samples=75510</td>\n",
       "      <td>Ridge</td>\n",
       "      <td>0.047670</td>\n",
       "      <td>0.034911</td>\n",
       "      <td>37814</td>\n",
       "      <td>5</td>\n",
       "    </tr>\n",
       "    <tr>\n",
       "      <th>1</th>\n",
       "      <td>1_KK-1</td>\n",
       "      <td>n_samples=75510</td>\n",
       "      <td>RandomForest</td>\n",
       "      <td>0.042856</td>\n",
       "      <td>0.326502</td>\n",
       "      <td>37814</td>\n",
       "      <td>5</td>\n",
       "    </tr>\n",
       "  </tbody>\n",
       "</table>\n",
       "</div>"
      ],
      "text/plain": [
       "  experiment          context         model       MAE        R2  n_samples  \\\n",
       "0     1_KK-1  n_samples=75510         Ridge  0.047670  0.034911      37814   \n",
       "1     1_KK-1  n_samples=75510  RandomForest  0.042856  0.326502      37814   \n",
       "\n",
       "   n_features  \n",
       "0           5  \n",
       "1           5  "
      ]
     },
     "execution_count": 73,
     "metadata": {},
     "output_type": "execute_result"
    }
   ],
   "source": [
    "cols = ['cross_sectional_area','component_type_id','nominal_thickness_mmc','h2s_content','co2_content']\n",
    "# ''co2_content''-\n",
    "run_experiment(df_kk_1, cols, experiment_name='1_KK-1')"
   ]
  },
  {
   "cell_type": "code",
   "execution_count": 74,
   "metadata": {},
   "outputs": [
    {
     "name": "stdout",
     "output_type": "stream",
     "text": [
      "experiment         context        model      MAE       R2  n_samples  n_features\n",
      "    1_KK-1 n_samples=75510        Ridge 0.047681 0.034771      37814           6\n",
      "    1_KK-1 n_samples=75510 RandomForest 0.042855 0.323559      37814           6\n"
     ]
    },
    {
     "data": {
      "text/html": [
       "<div>\n",
       "<style scoped>\n",
       "    .dataframe tbody tr th:only-of-type {\n",
       "        vertical-align: middle;\n",
       "    }\n",
       "\n",
       "    .dataframe tbody tr th {\n",
       "        vertical-align: top;\n",
       "    }\n",
       "\n",
       "    .dataframe thead th {\n",
       "        text-align: right;\n",
       "    }\n",
       "</style>\n",
       "<table border=\"1\" class=\"dataframe\">\n",
       "  <thead>\n",
       "    <tr style=\"text-align: right;\">\n",
       "      <th></th>\n",
       "      <th>experiment</th>\n",
       "      <th>context</th>\n",
       "      <th>model</th>\n",
       "      <th>MAE</th>\n",
       "      <th>R2</th>\n",
       "      <th>n_samples</th>\n",
       "      <th>n_features</th>\n",
       "    </tr>\n",
       "  </thead>\n",
       "  <tbody>\n",
       "    <tr>\n",
       "      <th>0</th>\n",
       "      <td>1_KK-1</td>\n",
       "      <td>n_samples=75510</td>\n",
       "      <td>Ridge</td>\n",
       "      <td>0.047681</td>\n",
       "      <td>0.034771</td>\n",
       "      <td>37814</td>\n",
       "      <td>6</td>\n",
       "    </tr>\n",
       "    <tr>\n",
       "      <th>1</th>\n",
       "      <td>1_KK-1</td>\n",
       "      <td>n_samples=75510</td>\n",
       "      <td>RandomForest</td>\n",
       "      <td>0.042855</td>\n",
       "      <td>0.323559</td>\n",
       "      <td>37814</td>\n",
       "      <td>6</td>\n",
       "    </tr>\n",
       "  </tbody>\n",
       "</table>\n",
       "</div>"
      ],
      "text/plain": [
       "  experiment          context         model       MAE        R2  n_samples  \\\n",
       "0     1_KK-1  n_samples=75510         Ridge  0.047681  0.034771      37814   \n",
       "1     1_KK-1  n_samples=75510  RandomForest  0.042855  0.323559      37814   \n",
       "\n",
       "   n_features  \n",
       "0           6  \n",
       "1           6  "
      ]
     },
     "execution_count": 74,
     "metadata": {},
     "output_type": "execute_result"
    }
   ],
   "source": [
    "\n",
    "cols = ['cross_sectional_area','component_type_id','nominal_thickness_mmc','h2s_content','co2_content','sulfur_content']\n",
    "# ''co2_content''-\n",
    "run_experiment(df_kk_1, cols, experiment_name='1_KK-1')"
   ]
  },
  {
   "cell_type": "code",
   "execution_count": null,
   "metadata": {},
   "outputs": [],
   "source": []
  }
 ],
 "metadata": {
  "kernelspec": {
   "display_name": "Python 3 (ipykernel)",
   "language": "python",
   "name": "python3"
  },
  "language_info": {
   "codemirror_mode": {
    "name": "ipython",
    "version": 3
   },
   "file_extension": ".py",
   "mimetype": "text/x-python",
   "name": "python",
   "nbconvert_exporter": "python",
   "pygments_lexer": "ipython3",
   "version": "3.11.9"
  }
 },
 "nbformat": 4,
 "nbformat_minor": 4
}

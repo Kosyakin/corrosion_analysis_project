{
 "cells": [
  {
   "cell_type": "markdown",
   "metadata": {},
   "source": [
    "## ML Baseline для прогноза скорости коррозии\n",
    "\n",
    "В этом ноутбуке мы построим простой, но корректный базовый ML-пайплайн:\n",
    "- загрузим данные;\n",
    "- подготовим признаки (числовые, категориальные, материал);\n",
    "- обучим несколько базовых моделей;\n",
    "- корректно оценим качество с кросс-валидацией;\n",
    "- интерпретируем важность признаков;\n",
    "- сохраним результаты.\n",
    "\n",
    "По ходу добавлены пояснения ключевых терминов и ссылки на источники.\n"
   ]
  },
  {
   "cell_type": "code",
   "execution_count": 6,
   "metadata": {},
   "outputs": [
    {
     "name": "stdout",
     "output_type": "stream",
     "text": [
      "Python: 3.11.9 (tags/v3.11.9:de54cf5, Apr  2 2024, 10:12:12) [MSC v.1938 64 bit (AMD64)]\n",
      "pandas: 2.3.3\n",
      "numpy: 2.3.4\n",
      "scikit-learn: 1.7.2\n"
     ]
    }
   ],
   "source": [
    "# Импорты и версия окружения\n",
    "import os, sys, json\n",
    "import numpy as np\n",
    "import pandas as pd\n",
    "import matplotlib.pyplot as plt\n",
    "import seaborn as sns\n",
    "\n",
    "print('Python:', sys.version)\n",
    "print('pandas:', pd.__version__)\n",
    "print('numpy:', np.__version__)\n",
    "\n",
    "# Добавляем src в путь, чтобы импортировать загрузку данных\n",
    "if '../src' not in sys.path:\n",
    "    sys.path.append('../src')\n",
    "from database import load_corrosion_data\n",
    "\n",
    "# Попытка импортировать scikit-learn\n",
    "try:\n",
    "    import sklearn\n",
    "    from sklearn.model_selection import train_test_split, KFold, GroupKFold\n",
    "    from sklearn.metrics import mean_absolute_error, r2_score, mean_squared_error\n",
    "    from sklearn.linear_model import Ridge\n",
    "    from sklearn.ensemble import RandomForestRegressor\n",
    "    from sklearn.preprocessing import StandardScaler\n",
    "    from sklearn.compose import ColumnTransformer\n",
    "    from sklearn.pipeline import Pipeline\n",
    "    print('scikit-learn:', sklearn.__version__)\n",
    "except Exception as e:\n",
    "    print('Внимание: требуется scikit-learn. Установите из requirements.txt. Ошибка:', e)\n"
   ]
  },
  {
   "cell_type": "markdown",
   "metadata": {},
   "source": [
    "### Что такое кросс-валидация (CV)?\n",
    "\n",
    "Кросс-валидация — это метод оценки качества модели, при котором данные многократно делятся на обучающую и валидационную части, а итоговое качество усредняется. Это уменьшает риск «подгонки» к конкретному разбиению.\n",
    "\n",
    "- Обзор: [Документация scikit-learn](https://scikit-learn.org/stable/modules/cross_validation.html)\n",
    "- KFold: делит данные на K равных частей и по очереди использует одну часть для валидации.\n",
    "- GroupKFold: аналог KFold, но соблюдает группировку (например, все записи одной установки идут либо в train, либо в val), чтобы избежать утечки информации между фолдами.\n"
   ]
  },
  {
   "cell_type": "code",
   "execution_count": 8,
   "metadata": {},
   "outputs": [
    {
     "name": "stdout",
     "output_type": "stream",
     "text": [
      "Записей: 442,052; колонок: 64\n",
      "Колонки: ['id', 'installation', 'equipment', 'mms', 'measurement_date', 'measurement', 'is_replaced', 'corrosion_rate', 'component_type_id', 'component_type_name', 'wall_thickness', 'radius', 'outer_diameter', 'inner_diameter', 'diameter_to_thickness_ratio', 'cross_sectional_area', 'material_type', 'material_resistance_score', 'water_content', 'h2s_content'] ...\n",
      "Удалено записей: 128,920; осталось: 313,132\n",
      "Групповая колонка для CV: installation\n"
     ]
    }
   ],
   "source": [
    "# Загрузка данных и базовая проверка\n",
    "\n",
    "df = load_corrosion_data()\n",
    "print(f\"Записей: {len(df):,}; колонок: {len(df.columns)}\")\n",
    "print('Колонки:', list(df.columns)[:20], '...')\n",
    "\n",
    "# Целевая переменная\n",
    "TARGET = 'corrosion_rate'\n",
    "if TARGET not in df.columns:\n",
    "    raise ValueError(f'Нет целевой переменной {TARGET} в данных')\n",
    "\n",
    "# Базовая фильтрация по физическим ограничениям\n",
    "before = len(df)\n",
    "df = df[df[TARGET].notna()]\n",
    "df = df[(df[TARGET] >= 0) & (df[TARGET] <= 10)]\n",
    "print(f\"Удалено записей: {before - len(df):,}; осталось: {len(df):,}\")\n",
    "\n",
    "# Возможные групповые колонки для GroupKFold (выберем первую доступную)\n",
    "possible_groups = ['installation','equipment','component_type_name']\n",
    "group_col = next((c for c in possible_groups if c in df.columns), None)\n",
    "print('Групповая колонка для CV:', group_col)\n"
   ]
  },
  {
   "cell_type": "markdown",
   "metadata": {},
   "source": [
    "### Подготовка признаков: что и зачем\n",
    "\n",
    "- Числовые признаки: передаем в модель как есть, часто полезно масштабирование (StandardScaler) для линейных моделей.\n",
    "- Категориальные признаки: преобразуем в числовой вид. В простом варианте — one-hot encoding (фиктивные переменные).\n",
    "- Материал: `material_resistance_score` — числовой признак устойчивости материала.\n",
    "\n",
    "Полезно:\n",
    "- One-Hot Encoding: [Документация scikit-learn](https://scikit-learn.org/stable/modules/preprocessing.html#encoding-categorical-features)\n",
    "- Масштабирование: [StandardScaler](https://scikit-learn.org/stable/modules/generated/sklearn.preprocessing.StandardScaler.html)\n"
   ]
  },
  {
   "cell_type": "code",
   "execution_count": 9,
   "metadata": {},
   "outputs": [
    {
     "name": "stdout",
     "output_type": "stream",
     "text": [
      "Числовые признаки: ['wall_thickness', 'outer_diameter', 'inner_diameter', 'radius', 'diameter_to_thickness_ratio', 'cross_sectional_area', 'operating_temperature', 'operating_pressure', 'water_content', 'h2s_content', 'sulfur_content', 'chlorine_content', 'co2_content', 'oxygen_content', 'methane_content', 'ethane_content', 'propane_content', 'butane_content', 'propylene_content', 'ethylene_content', 'total_sulfur_compounds', 'total_chlorine_compounds', 'total_acids', 'material_resistance_score']\n",
      "Категориальные признаки: ['component_type_name']\n"
     ]
    }
   ],
   "source": [
    "# Формирование списков признаков\n",
    "\n",
    "# Базовые группы признаков (подстраиваемся под доступность колонок)\n",
    "num_candidates = [\n",
    "    'wall_thickness','outer_diameter','inner_diameter','radius',\n",
    "    'diameter_to_thickness_ratio','cross_sectional_area',\n",
    "    'operating_temperature','operating_pressure',\n",
    "    'water_content','h2s_content','sulfur_content','chlorine_content',\n",
    "    'co2_content','oxygen_content','methane_content','ethane_content',\n",
    "    'propane_content','butane_content','propylene_content','ethylene_content',\n",
    "    'total_sulfur_compounds','total_chlorine_compounds','total_acids',\n",
    "    'material_resistance_score'\n",
    "]\n",
    "\n",
    "cat_candidates = ['component_type_name']\n",
    "\n",
    "num_features = [c for c in num_candidates if c in df.columns]\n",
    "cat_features = [c for c in cat_candidates if c in df.columns]\n",
    "\n",
    "print('Числовые признаки:', num_features)\n",
    "print('Категориальные признаки:', cat_features)\n",
    "\n",
    "# Простая обработка категорий: ограничим OHE топ-10 наиболее частых значений\n",
    "TOP_K = 10\n",
    "cat_maps = {}\n",
    "for c in cat_features:\n",
    "    top_vals = df[c].value_counts().nlargest(TOP_K).index\n",
    "    df[c] = df[c].where(df[c].isin(top_vals), other='Other')\n",
    "    cat_maps[c] = {'top_values': list(top_vals), 'other':'Other'}\n",
    "\n",
    "X_num = df[num_features].copy()\n",
    "X_cat = df[cat_features].copy() if cat_features else pd.DataFrame(index=df.index)\n",
    "\n",
    "y = df[TARGET].astype(float)\n"
   ]
  },
  {
   "cell_type": "code",
   "execution_count": 10,
   "metadata": {},
   "outputs": [
    {
     "name": "stdout",
     "output_type": "stream",
     "text": [
      "Итоговая матрица X: (313132, 30)\n",
      "Пропуски в X: 2732219\n",
      "Пропуски после импутации: 0\n"
     ]
    }
   ],
   "source": [
    "# Построение матрицы признаков X\n",
    "\n",
    "# One-Hot Encoding вручную через pandas.get_dummies\n",
    "if len(cat_features) > 0:\n",
    "    X_cat_encoded = pd.get_dummies(X_cat, columns=cat_features, drop_first=True, dtype=np.uint8)\n",
    "else:\n",
    "    X_cat_encoded = pd.DataFrame(index=df.index)\n",
    "\n",
    "X = pd.concat([X_num, X_cat_encoded], axis=1)\n",
    "print('Итоговая матрица X:', X.shape)\n",
    "print('Пропуски в X:', X.isna().sum().sum())\n",
    "\n",
    "# Простейшая импутация числовых пропусков медианами\n",
    "for c in num_features:\n",
    "    if c in X.columns:\n",
    "        X[c] = X[c].fillna(X[c].median())\n",
    "\n",
    "print('Пропуски после импутации:', X.isna().sum().sum())\n"
   ]
  },
  {
   "cell_type": "markdown",
   "metadata": {},
   "source": [
    "### Метрики качества: что измеряем\n",
    "\n",
    "- MAE (Mean Absolute Error) — средняя абсолютная ошибка, интерпретируется в единицах цели. [MAE](https://scikit-learn.org/stable/modules/model_evaluation.html#mean-absolute-error)\n",
    "- RMSE (Root Mean Squared Error) — корень из средней квадратичной ошибки; сильнее штрафует большие ошибки. [MSE/RMSE](https://scikit-learn.org/stable/modules/model_evaluation.html#mean-squared-error)\n",
    "- R² — доля объясненной вариации; 1 — идеально, 0 — не лучше константы. [R2](https://scikit-learn.org/stable/modules/model_evaluation.html#r2-score)\n"
   ]
  },
  {
   "cell_type": "code",
   "execution_count": 11,
   "metadata": {},
   "outputs": [
    {
     "name": "stdout",
     "output_type": "stream",
     "text": [
      "Ridge — MAE: 0.0630, RMSE: 0.1798, R2: 0.0182\n",
      "RandomForest — MAE: 0.0606, RMSE: 0.1715, R2: 0.1071\n"
     ]
    }
   ],
   "source": [
    "# Бейзлайн на простом train/val сплите\n",
    "\n",
    "X_train, X_val, y_train, y_val = train_test_split(\n",
    "    X, y, test_size=0.2, random_state=42\n",
    ")\n",
    "\n",
    "# Линейная модель с регуляризацией (Ridge)\n",
    "ridge = Pipeline(steps=[\n",
    "    ('scaler', StandardScaler(with_mean=False)),  # with_mean=False для разреженных OHE\n",
    "    ('model', Ridge(alpha=1.0, random_state=42))\n",
    "])\n",
    "\n",
    "ridge.fit(X_train, y_train)\n",
    "ridge_pred = ridge.predict(X_val)\n",
    "\n",
    "mae = mean_absolute_error(y_val, ridge_pred)\n",
    "rmse = np.sqrt(mean_squared_error(y_val, ridge_pred))\n",
    "r2 = r2_score(y_val, ridge_pred)\n",
    "\n",
    "print(f'Ridge — MAE: {mae:.4f}, RMSE: {rmse:.4f}, R2: {r2:.4f}')\n",
    "\n",
    "# Деревья — RandomForest\n",
    "rf = RandomForestRegressor(\n",
    "    n_estimators=200,\n",
    "    max_depth=None,\n",
    "    n_jobs=-1,\n",
    "    random_state=42\n",
    ")\n",
    "rf.fit(X_train, y_train)\n",
    "rf_pred = rf.predict(X_val)\n",
    "\n",
    "mae_rf = mean_absolute_error(y_val, rf_pred)\n",
    "rmse_rf = np.sqrt(mean_squared_error(y_val, rf_pred))\n",
    "r2_rf = r2_score(y_val, rf_pred)\n",
    "\n",
    "print(f'RandomForest — MAE: {mae_rf:.4f}, RMSE: {rmse_rf:.4f}, R2: {r2_rf:.4f}')\n"
   ]
  },
  {
   "cell_type": "code",
   "execution_count": 13,
   "metadata": {},
   "outputs": [
    {
     "name": "stdout",
     "output_type": "stream",
     "text": [
      "CV схема: GroupKFold(installation)\n",
      "Средние метрики по фолдам:\n",
      "                 MAE            RMSE              R2        \n",
      "                mean     std    mean     std    mean     std\n",
      "model                                                       \n",
      "RandomForest  0.0723  0.0310  0.1646  0.1222 -0.2273  0.1669\n",
      "Ridge         0.0694  0.0271  0.1578  0.1248 -0.0729  0.0756\n"
     ]
    }
   ],
   "source": [
    "# Кросс-валидация (CV): KFold или GroupKFold\n",
    "\n",
    "K = 5\n",
    "\n",
    "cv_results = []\n",
    "\n",
    "if group_col is not None:\n",
    "    splitter = GroupKFold(n_splits=K)\n",
    "    groups = df[group_col]\n",
    "    cv_iter = splitter.split(X, y, groups=groups)\n",
    "    cv_name = f'GroupKFold({group_col})'\n",
    "else:\n",
    "    splitter = KFold(n_splits=K, shuffle=True, random_state=42)\n",
    "    cv_iter = splitter.split(X, y)\n",
    "    cv_name = 'KFold'\n",
    "\n",
    "print('CV схема:', cv_name)\n",
    "\n",
    "for fold, (tr_idx, va_idx) in enumerate(cv_iter, 1):\n",
    "    X_tr, X_va = X.iloc[tr_idx], X.iloc[va_idx]\n",
    "    y_tr, y_va = y.iloc[tr_idx], y.iloc[va_idx]\n",
    "\n",
    "    # Ridge\n",
    "    ridge = Pipeline(steps=[('scaler', StandardScaler(with_mean=False)), ('model', Ridge(alpha=1.0, random_state=42))])\n",
    "    ridge.fit(X_tr, y_tr)\n",
    "    pred = ridge.predict(X_va)\n",
    "    cv_results.append({'model':'Ridge','fold':fold,\n",
    "                       'MAE': mean_absolute_error(y_va, pred),\n",
    "                       'RMSE': np.sqrt(mean_squared_error(y_va, pred)),\n",
    "                       'R2': r2_score(y_va, pred)})\n",
    "\n",
    "    # RandomForest\n",
    "    rf = RandomForestRegressor(n_estimators=200, n_jobs=-1, random_state=42)\n",
    "    rf.fit(X_tr, y_tr)\n",
    "    pred_rf = rf.predict(X_va)\n",
    "    cv_results.append({'model':'RandomForest','fold':fold,\n",
    "                       'MAE': mean_absolute_error(y_va, pred_rf),\n",
    "                       'RMSE': np.sqrt(mean_squared_error(y_va, pred_rf)),\n",
    "                       'R2': r2_score(y_va, pred_rf)})\n",
    "\n",
    "cv_df = pd.DataFrame(cv_results)\n",
    "print('Средние метрики по фолдам:')\n",
    "print(cv_df.groupby('model')[['MAE','RMSE','R2']].agg(['mean','std']).round(4))\n"
   ]
  },
  {
   "cell_type": "code",
   "execution_count": 14,
   "metadata": {},
   "outputs": [
    {
     "name": "stdout",
     "output_type": "stream",
     "text": [
      "Топ-15 важнейших признаков (RF):\n",
      "operating_temperature          0.168457\n",
      "butane_content                 0.096846\n",
      "operating_pressure             0.091162\n",
      "total_sulfur_compounds         0.084687\n",
      "sulfur_content                 0.075416\n",
      "water_content                  0.072870\n",
      "wall_thickness                 0.067589\n",
      "cross_sectional_area           0.062219\n",
      "diameter_to_thickness_ratio    0.056793\n",
      "inner_diameter                 0.040283\n",
      "component_type_name_Участок    0.029080\n",
      "component_type_name_Отвод      0.023891\n",
      "h2s_content                    0.020911\n",
      "outer_diameter                 0.019547\n",
      "radius                         0.019137\n",
      "dtype: float64\n",
      "\n",
      "Топ-15 по |коэффициентам| (Ridge):\n",
      "cross_sectional_area          -0.027966\n",
      "total_sulfur_compounds         0.025317\n",
      "diameter_to_thickness_ratio   -0.018749\n",
      "h2s_content                   -0.015037\n",
      "wall_thickness                 0.014059\n",
      "outer_diameter                 0.013748\n",
      "radius                         0.013748\n",
      "component_type_name_Отвод      0.013620\n",
      "inner_diameter                 0.013611\n",
      "sulfur_content                -0.009567\n",
      "operating_temperature          0.006926\n",
      "component_type_name_Участок    0.006385\n",
      "methane_content               -0.005303\n",
      "ethylene_content               0.004823\n",
      "oxygen_content                -0.002875\n",
      "dtype: float64\n"
     ]
    }
   ],
   "source": [
    "# Интерпретация: важности признаков и коэффициенты\n",
    "\n",
    "# Дообучим RandomForest на всех данных (для демонстрации важностей)\n",
    "rf_full = RandomForestRegressor(n_estimators=300, n_jobs=-1, random_state=42)\n",
    "rf_full.fit(X, y)\n",
    "\n",
    "importances = pd.Series(rf_full.feature_importances_, index=X.columns).sort_values(ascending=False)\n",
    "print('Топ-15 важнейших признаков (RF):')\n",
    "print(importances.head(15))\n",
    "\n",
    "# Коэффициенты Ridge (на всех данных) — перед этим подгоним scaler\n",
    "ridge_full = Pipeline(steps=[('scaler', StandardScaler(with_mean=False)), ('model', Ridge(alpha=1.0, random_state=42))])\n",
    "ridge_full.fit(X, y)\n",
    "\n",
    "# Достаем коэффициенты из последнего шага\n",
    "coef = pd.Series(ridge_full.named_steps['model'].coef_, index=X.columns).sort_values(key=np.abs, ascending=False)\n",
    "print('\\nТоп-15 по |коэффициентам| (Ridge):')\n",
    "print(coef.head(15))\n"
   ]
  },
  {
   "cell_type": "code",
   "execution_count": 17,
   "metadata": {},
   "outputs": [
    {
     "name": "stdout",
     "output_type": "stream",
     "text": [
      "Сохранено: ../data/ml_baseline_results.json\n"
     ]
    }
   ],
   "source": [
    "# Сохранение артефактов\n",
    "\n",
    "os.makedirs('../data', exist_ok=True)\n",
    "\n",
    "# Преобразуем сводку CV к плоским строковым ключам\n",
    "summary = cv_df.groupby('model')[['MAE','RMSE','R2']].agg(['mean','std']).round(6)\n",
    "summary.columns = [f'{m}_{s}' for m, s in summary.columns]\n",
    "cv_summary = summary.reset_index().to_dict(orient='records')\n",
    "\n",
    "# Гарантируем сериализацию значений в JSON (приводим к float/str)\n",
    "rf_top = {str(k): float(v) for k, v in importances.head(20).round(6).items()}\n",
    "ridge_top = {str(k): float(v) for k, v in coef.head(20).round(6).items()}\n",
    "\n",
    "results = {\n",
    "    'cv_summary': cv_summary,\n",
    "    'top_rf_features': rf_top,\n",
    "    'top_ridge_coeffs_abs': ridge_top,\n",
    "    'group_column': group_col\n",
    "}\n",
    "\n",
    "with open('../data/ml_baseline_results.json', 'w', encoding='utf-8') as f:\n",
    "    json.dump(results, f, ensure_ascii=False, indent=2)\n",
    "\n",
    "print('Сохранено: ../data/ml_baseline_results.json')\n"
   ]
  },
  {
   "cell_type": "code",
   "execution_count": null,
   "metadata": {},
   "outputs": [],
   "source": []
  }
 ],
 "metadata": {
  "kernelspec": {
   "display_name": "Python 3 (ipykernel)",
   "language": "python",
   "name": "python3"
  },
  "language_info": {
   "codemirror_mode": {
    "name": "ipython",
    "version": 3
   },
   "file_extension": ".py",
   "mimetype": "text/x-python",
   "name": "python",
   "nbconvert_exporter": "python",
   "pygments_lexer": "ipython3",
   "version": "3.11.9"
  }
 },
 "nbformat": 4,
 "nbformat_minor": 4
}
